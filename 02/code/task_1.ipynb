{
 "cells": [
  {
   "cell_type": "markdown",
   "metadata": {},
   "source": [
    "# **Part 1**\n",
    "\n",
    "\n",
    "1. Implementation of **Sobel edge detection algorithm** from scratch. This part also includes comparioson between the method implemented from scratch and the one provided by OpenCV library.\n",
    "2. Implementation of a method that uses output image from point 1 and **counts number of poles** in the provided 'fence.jpg' image."
   ]
  },
  {
   "cell_type": "code",
   "execution_count": null,
   "metadata": {},
   "outputs": [],
   "source": []
  }
 ],
 "metadata": {
  "language_info": {
   "name": "python"
  },
  "orig_nbformat": 4
 },
 "nbformat": 4,
 "nbformat_minor": 2
}
