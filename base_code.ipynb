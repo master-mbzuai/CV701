{
 "cells": [
  {
   "cell_type": "code",
   "execution_count": null,
   "id": "098894f9",
   "metadata": {},
   "outputs": [],
   "source": [
    "#importing libraries\n",
    "\n",
    "import os\n",
    "import numpy as np\n",
    "import torch\n",
    "import time\n",
    "import torch.utils.data\n",
    "from torch.utils.data.dataset import Dataset\n",
    "import torch.nn as nn\n",
    "import torch.nn.functional as F\n",
    "import torch.optim as optim\n",
    "import torchvision\n",
    "import torchvision.transforms as transforms\n",
    "from torchvision import datasets, transforms\n",
    "import matplotlib.pyplot as plt\n",
    "import random\n",
    "import cv2\n",
    "import glob\n",
    "from PIL import Image\n",
    "import ntpath\n",
    "import os\n",
    "from tqdm import tqdm\n",
    "from tqdm import trange\n",
    "%matplotlib inline"
   ]
  },
  {
   "cell_type": "code",
   "execution_count": null,
   "id": "9e78707f",
   "metadata": {},
   "outputs": [],
   "source": [
    "def START_seed():\n",
    "    seed = 9\n",
    "    torch.manual_seed(seed)\n",
    "    torch.cuda.manual_seed(seed)\n",
    "    torch.cuda.manual_seed_all(seed)\n",
    "    np.random.seed(seed)\n",
    "    random.seed(seed)\n",
    "    torch.backends.cudnn.benchmark = False\n",
    "    torch.backends.cudnn.deterministic = True\n",
    "\n",
    "lr = \n",
    "epochs=20\n",
    "device = 'cuda'\n",
    "train_batch_size = \n",
    "test_batch_size = \n",
    "ACLASSES = ('buildings', 'forest', 'glacier', 'mountain', 'sea', 'street')"
   ]
  },
  {
   "cell_type": "markdown",
   "id": "4a6fa699",
   "metadata": {},
   "source": [
    "### DATASET CLASS"
   ]
  },
  {
   "cell_type": "code",
   "execution_count": null,
   "id": "7ba0a78a",
   "metadata": {},
   "outputs": [],
   "source": [
    "from torchvision import transforms\n",
    "from torch.utils.data import Dataset\n",
    "from PIL import Image\n",
    "import os\n",
    "\n",
    "class CustomDataset(Dataset):\n",
    "    def __init__(self, data_folder, transform=None):\n",
    "        #initialisation\n",
    "        self.class_to_idx = {'buildings':0,'forest':1,'glacier':2,'mountain':3,'sea':4,'street':5} #optional can change acc to your code\n",
    "        \n",
    "    def make_dataset(self):\n",
    "        #can use this (Optional)\n",
    "        return samples\n",
    "\n",
    "    def __len__(self):\n",
    "        return len(self.samples)\n",
    "\n",
    "    def __getitem__(self, index):\n",
    "        #get item code\n",
    "\n",
    "        return sample, target"
   ]
  },
  {
   "cell_type": "markdown",
   "id": "c5f6112a",
   "metadata": {},
   "source": [
    "### INITIALISE THE DATASET and THE DATALOADERS "
   ]
  },
  {
   "cell_type": "code",
   "execution_count": null,
   "id": "b4a992e4",
   "metadata": {},
   "outputs": [],
   "source": [
    "\n",
    "START_seed()\n",
    "# Define your transformations (hint:use augmentations)\n",
    "\n",
    "# dataset initialisation\n",
    "\n",
    "#loader initialisation\n"
   ]
  },
  {
   "cell_type": "markdown",
   "id": "60fce263",
   "metadata": {},
   "source": [
    "## Visualizing Data"
   ]
  },
  {
   "cell_type": "code",
   "execution_count": null,
   "id": "6b2800d9",
   "metadata": {},
   "outputs": [],
   "source": [
    "# show some images\n",
    "mean=[0.485, 0.456, 0.406]\n",
    "std=[0.229, 0.224, 0.225]\n",
    "plt.figure(figsize=(16, 6))\n",
    "for i in range(10):\n",
    "    plt.subplot(2, 5, i + 1)\n",
    "    image, _ = train_loader.dataset.__getitem__(i)\n",
    "    image= image.permute(1,2,0).numpy()\n",
    "    image = (image*std)+mean\n",
    "    plt.imshow(image)"
   ]
  },
  {
   "cell_type": "markdown",
   "id": "1e29314d",
   "metadata": {},
   "source": [
    "### Training and evaluation loop"
   ]
  },
  {
   "cell_type": "code",
   "execution_count": null,
   "id": "f2430356",
   "metadata": {},
   "outputs": [],
   "source": [
    "# ## Creating training loop\n",
    "def train(model):\n",
    "    #write your code\n",
    "        print(' train loss: {:.4f} accuracy: {:.4f}'.format(train_loss/(batch_idx+1), 100.*correct/total))"
   ]
  },
  {
   "cell_type": "code",
   "execution_count": null,
   "id": "85c07f8d",
   "metadata": {},
   "outputs": [],
   "source": [
    "def validate(model):   \n",
    "    #write your code\n",
    "        print(' val loss: {:.4f} accuracy: {:.4f} best_accuracy: {:.4f}'.format(test_loss/(batch_idx+1), 100.*correct/total, best_accuracy))\n",
    "        if val_accuracy > best_accuracy: #OPTIONAL CAN FILL FOR SAVING THE BEST MODEL or else remove it\n"
   ]
  },
  {
   "cell_type": "markdown",
   "id": "572f59b3",
   "metadata": {},
   "source": [
    "### Initialise the model, optimizers, schedulers "
   ]
  },
  {
   "cell_type": "code",
   "execution_count": null,
   "id": "d1af5294",
   "metadata": {},
   "outputs": [],
   "source": [
    "START_seed()\n",
    "import torchvision.models as models\n",
    "\n",
    "#models you can use Resnet-18, VGG-16, Resnet-50. Also dont forget to change the last layer output classes\n",
    "model = models.resnet18(pretrained=False)\n",
    "model.fc = nn.Linear(model.fc.in_features, 6)\n",
    "print(model)\n",
    "\n",
    "pytorch_total_params = sum(p.numel() for p in  model.parameters())\n",
    "print('Number of parameters: {0}'.format(pytorch_total_params))"
   ]
  },
  {
   "cell_type": "code",
   "execution_count": null,
   "id": "7b82ff59",
   "metadata": {},
   "outputs": [],
   "source": [
    "criterion = nn.CrossEntropyLoss()\n",
    "optimizer = optim.SGD(model.parameters(), lr=lr) \n"
   ]
  },
  {
   "cell_type": "code",
   "execution_count": null,
   "id": "a3a54941",
   "metadata": {
    "scrolled": false
   },
   "outputs": [],
   "source": [
    "model.to(device)\n",
    "start = time.time()\n",
    "for epoch in range(0, epochs):\n",
    "    print(\"epoch number: {0}\".format(epoch))\n",
    "    train( model)\n",
    "    validate(model)\n",
    "end = time.time()\n",
    "Total_time=end-start\n",
    "print('Total training and inference time is: {0}'.format(Total_time))"
   ]
  },
  {
   "cell_type": "markdown",
   "id": "f41de837",
   "metadata": {},
   "source": [
    "### Test the model "
   ]
  },
  {
   "cell_type": "code",
   "execution_count": null,
   "id": "3292a325",
   "metadata": {},
   "outputs": [],
   "source": [
    "def test_best_model(model, test_loader, criterion, best_model_path):\n",
    "    # Load the best model\n",
    "    model.load_state_dict(torch.load(best_model_path))\n",
    "    model.eval()\n",
    "\n",
    "    test_loss = 0\n",
    "    correct = 0\n",
    "    total = 0\n",
    "\n",
    "    with tqdm(test_loader, unit=\"batch\") as tepoch:\n",
    "        for batch_idx, (data, target) in enumerate(tepoch):\n",
    "            data, target = data.to(device), target.to(device)\n",
    "\n",
    "            output = model(data)\n",
    "            loss = criterion(output, target)\n",
    "            test_loss += loss.item()\n",
    "\n",
    "            _, predicted = output.max(1)\n",
    "            total += target.size(0)\n",
    "            correct += predicted.eq(target).sum().item()\n",
    "\n",
    "        accuracy = 100. * correct / total\n",
    "        print('Test loss: {:.4f} Accuracy: {:.2f}%'.format(test_loss/(batch_idx+1), accuracy))\n",
    "\n",
    "# Usage example:\n",
    "\n",
    "# Assuming you have a model, test_loader, and best_model_path defined\n",
    "\n",
    "best_model_path = 'best_model.pth'  # Replace with the actual path and filename of the best model\n",
    "\n",
    "test_best_model(model, test_loader, nn.CrossEntropyLoss(), best_model_path)\n"
   ]
  }
 ],
 "metadata": {
  "kernelspec": {
   "display_name": "ai701",
   "language": "python",
   "name": "ai701"
  },
  "language_info": {
   "codemirror_mode": {
    "name": "ipython",
    "version": 3
   },
   "file_extension": ".py",
   "mimetype": "text/x-python",
   "name": "python",
   "nbconvert_exporter": "python",
   "pygments_lexer": "ipython3",
   "version": "3.8.13"
  }
 },
 "nbformat": 4,
 "nbformat_minor": 5
}
