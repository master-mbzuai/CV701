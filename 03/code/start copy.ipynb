{
 "cells": [
  {
   "cell_type": "code",
   "execution_count": 1,
   "metadata": {},
   "outputs": [
    {
     "name": "stderr",
     "output_type": "stream",
     "text": [
      "usage: ipykernel_launcher.py [-h] [--lr LR] [--optimizer {adam,sgd}]\n",
      "                             [--experiment_name EXPERIMENT_NAME]\n",
      "                             [--output_folder OUTPUT_FOLDER] [--debug]\n",
      "ipykernel_launcher.py: error: unrecognized arguments: --ip=127.0.0.1 --stdin=9003 --control=9001 --hb=9000 --Session.signature_scheme=\"hmac-sha256\" --Session.key=b\"1baef392-3fc4-4392-9b43-b045a51de874\" --shell=9002 --transport=\"tcp\" --iopub=9004 --f=/Users/sebastiancavada/Library/Jupyter/runtime/kernel-v2-4084AxnTDBkFnskQ.json\n"
     ]
    },
    {
     "ename": "SystemExit",
     "evalue": "2",
     "output_type": "error",
     "traceback": [
      "An exception has occurred, use %tb to see the full traceback.\n",
      "\u001b[0;31mSystemExit\u001b[0m\u001b[0;31m:\u001b[0m 2\n"
     ]
    },
    {
     "name": "stderr",
     "output_type": "stream",
     "text": [
      "/Users/sebastiancavada/anaconda3/envs/ai701/lib/python3.10/site-packages/IPython/core/interactiveshell.py:3534: UserWarning: To exit: use 'exit', 'quit', or Ctrl-D.\n",
      "  warn(\"To exit: use 'exit', 'quit', or Ctrl-D.\", stacklevel=1)\n"
     ]
    }
   ],
   "source": [
    "from micromind import MicroMind, Metric\n",
    "from micromind.networks import PhiNet\n",
    "from micromind.utils.parse import parse_arguments\n",
    "\n",
    "import torch\n",
    "import torch.nn as nn\n",
    "import torchvision\n",
    "import torchvision.transforms as transforms\n",
    "\n",
    "from dataset import ImageWoof\n",
    "from matplotlib import pyplot as plt\n",
    "\n",
    "batch_size = 128\n",
    "\n",
    "class ImageClassification(MicroMind):\n",
    "    def __init__(self, *args, **kwargs):\n",
    "        super().__init__(*args, **kwargs)\n",
    "\n",
    "        self.modules[\"classifier\"] = PhiNet(\n",
    "            (3, 32, 32), include_top=True, num_classes=10, alpha=2\n",
    "        )\n",
    "\n",
    "    def forward(self, batch):\n",
    "        return self.modules[\"classifier\"](batch[0])\n",
    "\n",
    "    def compute_loss(self, pred, batch):\n",
    "        return nn.CrossEntropyLoss()(pred, batch[1])\n",
    "\n",
    "\n",
    "if __name__ == \"__main__\":\n",
    "    hparams = parse_arguments()\n",
    "    m = ImageClassification(hparams)\n",
    "\n",
    "    def compute_accuracy(pred, batch):\n",
    "        tmp = (pred.argmax(1) == batch[1]).float()\n",
    "        return tmp\n",
    "\n",
    "    transform = transforms.Compose(\n",
    "        [transforms.ToTensor(), \n",
    "         transforms.Normalize((0.5, 0.5, 0.5), (0.5, 0.5, 0.5)),\n",
    "         transforms.Resize((160, 160), antialias=True)\n",
    "        ]\n",
    "    )\n",
    "\n",
    "    trainset = ImageWoof(\n",
    "        root=\".\", train=True, transform=transform, img_size=160\n",
    "    )\n",
    "    trainloader = torch.utils.data.DataLoader(\n",
    "        trainset, batch_size=batch_size, shuffle=True, num_workers=1\n",
    "    )\n",
    "\n",
    "    testset = ImageWoof(\n",
    "        root=\".\", train=False, transform=transform, img_size=160\n",
    "    )\n",
    "    testloader = torch.utils.data.DataLoader(\n",
    "        testset, batch_size=batch_size, shuffle=False, num_workers=1\n",
    "    )\n",
    "\n",
    "    \"\"\"\n",
    "    # show some images\n",
    "    mean=[0.485, 0.456, 0.406]\n",
    "    std=[0.229, 0.224, 0.225]\n",
    "    plt.figure(figsize=(16, 6))\n",
    "    for i in range(10):\n",
    "        plt.subplot(2, 5, i + 1)\n",
    "        image, _ = trainloader.dataset.__getitem__(i)\n",
    "        image= image.permute(1,2,0).numpy()\n",
    "        image = (image*std)+mean\n",
    "        plt.imshow(image)\n",
    "\n",
    "    plt.show()    \n",
    "    plt.waitforbuttonpress()\n",
    "    \"\"\"\n",
    "\n",
    "    acc = Metric(name=\"accuracy\", fn=compute_accuracy)\n",
    "\n",
    "    m.train(\n",
    "        epochs=300,\n",
    "        datasets={\"train\": trainloader, \"val\": testloader, \"test\": testloader},\n",
    "        metrics=[acc],\n",
    "        debug=hparams.debug,\n",
    "    )\n",
    "\n",
    "    m.test(\n",
    "        datasets={\"test\": testloader},\n",
    "    )\n",
    "\n",
    "    m.export(\"output_onnx\", \"onnx\", (3, 32, 32))\n"
   ]
  },
  {
   "cell_type": "code",
   "execution_count": null,
   "metadata": {},
   "outputs": [],
   "source": []
  }
 ],
 "metadata": {
  "kernelspec": {
   "display_name": "ai701",
   "language": "python",
   "name": "python3"
  },
  "language_info": {
   "codemirror_mode": {
    "name": "ipython",
    "version": 3
   },
   "file_extension": ".py",
   "mimetype": "text/x-python",
   "name": "python",
   "nbconvert_exporter": "python",
   "pygments_lexer": "ipython3",
   "version": "3.10.0"
  }
 },
 "nbformat": 4,
 "nbformat_minor": 2
}
